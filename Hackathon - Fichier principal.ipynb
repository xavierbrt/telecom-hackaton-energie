{
 "cells": [
  {
   "cell_type": "markdown",
   "metadata": {},
   "source": [
    "-------------------------------\n",
    "# <center>Hackathon - Quelle(s) énergie(s) pour demain ?</center>\n",
    "--------------------------------"
   ]
  },
  {
   "cell_type": "markdown",
   "metadata": {},
   "source": [
    ">Source de données utilisée :\n",
    "- https://www.bp.com/en/global/corporate/energy-economics/statistical-review-of-world-energy.html"
   ]
  },
  {
   "cell_type": "markdown",
   "metadata": {},
   "source": [
    "Notre étude se restreindra principalement aux sources permettant de produire l'énergie en tant matière première (électricité et chauffage notamment). En effet, la production d'énergie est ce qui rejette le plus de CO2 au niveau mondial (voir https://ourworldindata.org/grapher/global-carbon-dioxide-emissions-by-sector) et il convient donc d'en comprendre les raisons. Nous verrons ainsi au cours de cette modeste étude, que le charbon en est l'une des causes les plus importante (voir aussi https://ourworldindata.org/grapher/co2-by-source)."
   ]
  },
  {
   "cell_type": "markdown",
   "metadata": {},
   "source": [
    "## Introduction :\n",
    "\n",
    "Pour chaque terawatt heures d'électricité produite, le charbon est de loin la plus meurtrière des énergies. La production d'électricité à partir du charbon génère en effet d'importants rejets de CO2 qui entraînent des maladies conduisant à des décès."
   ]
  },
  {
   "cell_type": "code",
   "execution_count": 1,
   "metadata": {},
   "outputs": [],
   "source": [
    "# Graphe des morts"
   ]
  },
  {
   "cell_type": "code",
   "execution_count": null,
   "metadata": {},
   "outputs": [],
   "source": [
    "# Graphe des rejets de CO2 dûent au charbon"
   ]
  },
  {
   "cell_type": "markdown",
   "metadata": {},
   "source": [
    "Pourtant, contrairement à une idée reçue, le charbon n’est pas seulement une énergie des pays « pauvres » ou « émergents », mais aussi… une énergie des pays dits riches, car ces derniers possèdent aussi des centrales électriques à charbon. Avant de rentrer dans les détails, un panorama sur les émissions des USA, désormais « seulement » deuxième émetteur de gaz à effet de serre au monde, le montrera mieux que de longs discours."
   ]
  },
  {
   "cell_type": "code",
   "execution_count": null,
   "metadata": {},
   "outputs": [],
   "source": [
    "# Graphe des rejets de CO2 par pays et par habitants au niveau mondial"
   ]
  },
  {
   "cell_type": "markdown",
   "metadata": {},
   "source": [
    "## Quels sont les principaux pays consommateurs de charbon ? "
   ]
  },
  {
   "cell_type": "markdown",
   "metadata": {},
   "source": [
    "Les USA ne sont pas le seul pays industrialisé à consommer du charbon significativement : parmi les 25 premiers consommateurs de charbon par personne se trouvent beaucpoup de pays de l’OCDE :"
   ]
  },
  {
   "cell_type": "code",
   "execution_count": 2,
   "metadata": {},
   "outputs": [],
   "source": [
    "# Graphe des consommateurs de charbon par personne"
   ]
  },
  {
   "cell_type": "markdown",
   "metadata": {},
   "source": [
    "Certains pays l'utilisent de plus en plus et d'autres de moins en moins.\n",
    "\n",
    "\n",
    "Montrer que la part d’électricité produite par le charbon reste stable (des pays l’utilisent de moins en moins et d’autres de plus en plus).\n",
    "https://ourworldindata.org/grapher/coal-consumption-by-country-terawatt-hours-twh?country=Africa+ARG+AUS+FRA+IND+OWID_WRL\n",
    "https://ourworldindata.org/grapher/world-electricity-by-source (utilisation pour de la production électricité) "
   ]
  },
  {
   "cell_type": "markdown",
   "metadata": {},
   "source": [
    "## Pourquoi le charbon est-il autant utilisé ?\n",
    "Montrer les raisons de l’utilisation du charbon :\n",
    "Réserves de charbon\n",
    "Prix\n",
    "Demande d’énergie croissante\n",
    "\n",
    "https://ourworldindata.org/grapher/coal-production-by-country?country=AUS-0+CHN-0+FRA-0+IND-0+GBR-1 (utilisation car ressource facilement disponible dans les pays qui l'utilisent)\n",
    "\n",
    "https://ourworldindata.org/grapher/world-population-by-world-regions-post-1820 (évolution de la population mondiale) + https://ourworldindata.org/grapher/population\n",
    "\n",
    "\n",
    "Possible diminution ?\n",
    "Montrer ce qui peut faire diminuer l’utilisation du charbon :\n",
    "Par quoi les pays qui ne l’utilisent plus l’ont remplacé (gaz, etc.)\n",
    "Investissement dans les énergies durables\n",
    "Est-ce qu’elle pourra diminuer (investissement dans les énergies renouvelables, augmentation de la population, etc.) ? https://ourworldindata.org/grapher/renewable-energy-investment?country=Americas%20(excl.%20US%20and%20Brazil)+Asia%20and%20Oceania%20(excl.%20China%20and%20India)+BRA+CHN+Europe+IND+Middle%20East%20and%20Africa+United%20States%20of%20America\n",
    "https://ourworldindata.org/grapher/renewable-energy-investment-of-gdp\n",
    "https://ourworldindata.org/grapher/investment-in-renewable-energy-by-technology"
   ]
  }
 ],
 "metadata": {
  "kernelspec": {
   "display_name": "Python 3",
   "language": "python",
   "name": "python3"
  },
  "language_info": {
   "codemirror_mode": {
    "name": "ipython",
    "version": 3
   },
   "file_extension": ".py",
   "mimetype": "text/x-python",
   "name": "python",
   "nbconvert_exporter": "python",
   "pygments_lexer": "ipython3",
   "version": "3.7.4"
  }
 },
 "nbformat": 4,
 "nbformat_minor": 4
}
