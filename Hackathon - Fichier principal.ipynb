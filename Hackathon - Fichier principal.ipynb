{
 "cells": [
  {
   "cell_type": "markdown",
   "metadata": {},
   "source": [
    "-------------------------------\n",
    "# <center>Hackathon - Quelle(s) énergie(s) pour demain ?</center>\n",
    "--------------------------------"
   ]
  },
  {
   "cell_type": "markdown",
   "metadata": {},
   "source": [
    ">Source de données utilisée :\n",
    "- https://www.bp.com/en/global/corporate/energy-economics/statistical-review-of-world-energy.html"
   ]
  },
  {
   "cell_type": "markdown",
   "metadata": {},
   "source": [
    "Notre étude se restreindra principalement aux sources permettant de produire l'énergie en tant matière première (électricité et chauffage notamment). En effet, la production d'énergie est ce qui rejette le plus de CO2 au niveau mondial (voir https://ourworldindata.org/grapher/global-carbon-dioxide-emissions-by-sector) et il convient donc d'en comprendre les raisons. Nous verrons ainsi au cours de cette modeste étude, que le charbon en est l'une des causes les plus importante (voir aussi https://ourworldindata.org/grapher/co2-by-source)."
   ]
  },
  {
   "cell_type": "code",
   "execution_count": 1,
   "metadata": {},
   "outputs": [],
   "source": [
    "import numpy as np\n",
    "import pandas as pd\n",
    "import matplotlib as plt"
   ]
  },
  {
   "cell_type": "markdown",
   "metadata": {},
   "source": [
    "## Introduction :\n",
    "\n",
    "Pour chaque terawatt heures d'électricité produite, le charbon est de loin la plus meurtrière des énergies. La production d'électricité à partir du charbon génère en effet d'importants rejets de CO2 qui entraînent des maladies conduisant à des décès."
   ]
  },
  {
   "cell_type": "code",
   "execution_count": 1,
   "metadata": {},
   "outputs": [],
   "source": [
    "# Graphe des morts"
   ]
  },
  {
   "cell_type": "code",
   "execution_count": null,
   "metadata": {},
   "outputs": [],
   "source": [
    "# Graphe des rejets de CO2 dûent au charbon"
   ]
  },
  {
   "cell_type": "markdown",
   "metadata": {},
   "source": [
    "Malgré cela, le charbon reste encore majoritairement utilisé pour produire de l'énergie :"
   ]
  },
  {
   "cell_type": "code",
   "execution_count": null,
   "metadata": {},
   "outputs": [],
   "source": [
    "# Graphe sur l'utilisation charbon poru la production d'électricité"
   ]
  },
  {
   "cell_type": "markdown",
   "metadata": {},
   "source": [
    "## Quels sont les principaux pays consommateurs de charbon ? "
   ]
  },
  {
   "cell_type": "markdown",
   "metadata": {},
   "source": [
    "Contrairement à une idée reçue, le charbon n’est pas seulement une énergie des pays « pauvres » ou « émergents », mais aussi… une énergie des pays dits riches, car ces derniers possèdent aussi des centrales électriques à charbon. Les USA ne sont pas le seul pays industrialisé à consommer du charbon significativement : parmi les 25 premiers consommateurs de charbon par personne se trouvent beaucoup de pays de l’OCDE :"
   ]
  },
  {
   "cell_type": "code",
   "execution_count": 2,
   "metadata": {},
   "outputs": [],
   "source": [
    "# Graphe des consommateurs de charbon par personne"
   ]
  },
  {
   "cell_type": "code",
   "execution_count": null,
   "metadata": {},
   "outputs": [],
   "source": []
  },
  {
   "cell_type": "code",
   "execution_count": null,
   "metadata": {},
   "outputs": [],
   "source": []
  },
  {
   "cell_type": "code",
   "execution_count": null,
   "metadata": {},
   "outputs": [],
   "source": []
  },
  {
   "cell_type": "markdown",
   "metadata": {},
   "source": []
  },
  {
   "cell_type": "markdown",
   "metadata": {},
   "source": [
    "## Pourquoi le charbon est-il autant utilisé ?\n",
    "Le côut d'extraction du charbon est relativement faible, les réserves sont facilement disponibles, notamment dans les pays qui l'utilisent beaucoup et ces pays doivent pouvoir faire face à la demande croissante en énergie.\n",
    "\n",
    "\n",
    "https://ourworldindata.org/grapher/coal-production-by-country?country=AUS-0+CHN-0+FRA-0+IND-0+GBR-1 (utilisation car ressource facilement disponible dans les pays qui l'utilisent)\n",
    "\n",
    "https://ourworldindata.org/grapher/world-population-by-world-regions-post-1820 (évolution de la population mondiale) + https://ourworldindata.org/grapher/population"
   ]
  },
  {
   "cell_type": "code",
   "execution_count": null,
   "metadata": {},
   "outputs": [],
   "source": [
    "# Graphe"
   ]
  },
  {
   "cell_type": "code",
   "execution_count": null,
   "metadata": {},
   "outputs": [],
   "source": [
    "# Graphe"
   ]
  },
  {
   "cell_type": "markdown",
   "metadata": {},
   "source": [
    "## Une diminution de l'utilisation du charbon est-elle à entrevoir ?\n",
    "\n",
    "Montrer ce qui peut faire diminuer l’utilisation du charbon :\n",
    "Par quoi les pays qui ne l’utilisent plus l’ont remplacé (gaz, etc.)\n",
    "Investissement dans les énergies durables\n",
    "Est-ce qu’elle pourra diminuer (investissement dans les énergies renouvelables, augmentation de la population, etc.) ? https://ourworldindata.org/grapher/renewable-energy-investment?country=Americas%20(excl.%20US%20and%20Brazil)+Asia%20and%20Oceania%20(excl.%20China%20and%20India)+BRA+CHN+Europe+IND+Middle%20East%20and%20Africa+United%20States%20of%20America\n",
    "https://ourworldindata.org/grapher/renewable-energy-investment-of-gdp\n",
    "https://ourworldindata.org/grapher/investment-in-renewable-energy-by-technology"
   ]
  },
  {
   "cell_type": "code",
   "execution_count": null,
   "metadata": {},
   "outputs": [],
   "source": []
  },
  {
   "cell_type": "markdown",
   "metadata": {},
   "source": [
    "## Conclusion / Ouverture\n",
    "\n",
    "(https://jancovici.com/transition-energetique/charbon/a-quoi-sert-le-charbon/)\n",
    "Il est logique que le charbon ait pris une telle place dans un contexte socio-économique où les avantages immédiats écrasent les inconvénients à long terme. Avec un système de formation des prix qui ne tient que très peu compte de la rareté à long terme et des dommages environnementaux de long terme, mais beaucoup du coût immédiat du travail, le charbon est un ticket gagnant :\n",
    "* il est abondant, et surtout disponible sur place dans les pays qui dominent l’économie mondiale (à l’exception du Japon),\n",
    "* il n’est pas cher à extraire : 40 à 50 dollars la tonne, soit 0,5 à 1 centime d’euro le kWh (comme pour le pétrole),\n",
    "* il est nécessaire – ou le moins cher – pour la production de tous les matériaux de base qui ont fait l’essor de la société industrielle,\n",
    "* il permet de produire de l’électricité pour pas cher, or l’électricité est la forme la plus noble (et donc la plus polyvalente), sur le plan thermodynamique, des énergies finales que nous utilisons.\n",
    "\n",
    "\n",
    "Avec plus de 500 milliards de tonnes de réserves prouvées, le charbon serait la dernière des énergies carbonées disponibles si la croissance de la consommation continuait comme aujourd’hui. Alors que le pic de production du pétrole est proche, et qu’il en sera de même pour le gaz bien avant le milieu du siècle, accélérer le recours au charbon deviendra probablement de plus en plus tentant tant que le monde cherchera la « croissance économique » à court terme, même si cela doit s’accompagner d’une forte prise de risque concernant des dégâts climatiques ultérieurs (et d’une décroissance économique accélérée à ce moment là !). Car l’usage de cette énergie est synonyme de fortes émissions de gaz à effet de serre…\n",
    "\n",
    "Toutefois, on constate que la transition avec de nouvelles énergies est en marche puisque des pays ont investis massivement dans les énergies renouvelables. Reste maintenant à savoir si ces investissements permettront de répondre aux besoins croissants en énergie, ce qui est moins sûr."
   ]
  },
  {
   "cell_type": "code",
   "execution_count": null,
   "metadata": {},
   "outputs": [],
   "source": []
  }
 ],
 "metadata": {
  "kernelspec": {
   "display_name": "Python 3",
   "language": "python",
   "name": "python3"
  },
  "language_info": {
   "codemirror_mode": {
    "name": "ipython",
    "version": 3
   },
   "file_extension": ".py",
   "mimetype": "text/x-python",
   "name": "python",
   "nbconvert_exporter": "python",
   "pygments_lexer": "ipython3",
   "version": "3.7.4"
  }
 },
 "nbformat": 4,
 "nbformat_minor": 4
}
